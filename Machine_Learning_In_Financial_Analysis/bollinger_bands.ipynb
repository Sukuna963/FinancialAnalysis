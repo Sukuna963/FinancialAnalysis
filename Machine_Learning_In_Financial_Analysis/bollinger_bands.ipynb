{
 "cells": [
  {
   "cell_type": "markdown",
   "metadata": {},
   "source": [
    "# Calculating Bollinger Bands and Testing a Buy/Sell Strategy"
   ]
  },
  {
   "cell_type": "markdown",
   "metadata": {},
   "source": [
    "* A `Bollinger Band` consists of a middle band (which is a moving average) and an upper and lower band. \\\n",
    "These upper and lower bands are set above and below the moving average by a certain number of standard deviations of price, thus incorporating volatility. \\\n",
    "The general principle is that by comparing a stock's position relative to the bands, a trader may be able to determine if a stock's price is relatively low or relatively high. \\\n",
    "Further, the width of the band can be an indicator of its volatility (narrower bands indicate less volatility while wider ones indicate higher volatility). (SCHWAB, 2023)"
   ]
  },
  {
   "cell_type": "code",
   "execution_count": 1,
   "metadata": {},
   "outputs": [],
   "source": [
    "import backtrader as bt\n",
    "import datetime\n",
    "import matplotlib.pyplot as plt\n",
    "import pandas as pd\n",
    "import seaborn as sns\n",
    "import warnings\n",
    "import yfinance as yf\n",
    "\n",
    "# plt.style.use('seaborn')\n",
    "# plt.style.use('seaborn-colorblind') #alternative\n",
    "plt.rcParams['figure.figsize'] = [7, 7]\n",
    "plt.rcParams['figure.dpi'] = 300\n",
    "warnings.simplefilter(action='ignore', category=FutureWarning)"
   ]
  },
  {
   "cell_type": "code",
   "execution_count": 2,
   "metadata": {},
   "outputs": [
    {
     "name": "stdout",
     "output_type": "stream",
     "text": [
      "[*********************100%%**********************]  1 of 1 completed\n"
     ]
    }
   ],
   "source": [
    "# Download Data\n",
    "data = bt.feeds.PandasData(dataname=yf.download(\"AMZN\", start=\"2020-01-01\", end=\"2020-12-31\"))"
   ]
  },
  {
   "cell_type": "markdown",
   "metadata": {},
   "source": [
    "1- The template of the strategy looks like"
   ]
  },
  {
   "cell_type": "code",
   "execution_count": 3,
   "metadata": {},
   "outputs": [],
   "source": [
    "class BBand_Strategy(bt.Strategy):\n",
    "    params = (('period', 20),\n",
    "             ('devfactor', 2.0),)\n",
    "    \n",
    "    def __init__(self):\n",
    "        # keep track of close price in the series\n",
    "        self.data_close = self.datas[0].close\n",
    "        self.data_open = self.datas[0].open\n",
    "        \n",
    "        # keep track of pending orders/buy price/buy commission\n",
    "        self.order = None\n",
    "        self.price = None\n",
    "        self.comm = None\n",
    "            \n",
    "        # add Bollinger Bands indicator and track the buy/sell signals\n",
    "        self.b_band = bt.ind.BollingerBands(self.datas[0], period=self.p.period, devfactor=self.p.devfactor)\n",
    "        self.buy_signal = bt.ind.CrossOver(self.datas[0], self.b_band.lines.bot)\n",
    "        self.sell_signal = bt.ind.CrossOver(self.datas[0], self.b_band.lines.top)\n",
    "            \n",
    "    def log(self, txt):\n",
    "        '''Logging function'''''\n",
    "        dt = self.datas[0].datetime.date(0).isoformat()\n",
    "        print(f'{dt}, {txt}')\n",
    "        \n",
    "    def notify_order(self, order):\n",
    "        if order.status in [order.Submitted, order.Accepted]:\n",
    "            # order already submitted/accepted - no action required\n",
    "            return\n",
    "        \n",
    "        # report executed order\n",
    "        if order.status in [order.Completed]:\n",
    "            if order.isbuy():\n",
    "                self.log(f'BUY EXECUTED --- Price: {order.executed.price:.2f}, Cost: {order.executed.value:.2f}, Commission: {order.executed.comm:.2f}')\n",
    "                self.price = order.executed.price\n",
    "                self.comm = order.executed.comm\n",
    "                \n",
    "            else:\n",
    "                self.log(f'SELL EXECUTED --- Price: {order.executed.price:.2f}, Cost: {order.executed.value:.2f}, Commission: {order.executed.comm:.2f}')\n",
    "                \n",
    "        # report failed order\n",
    "        elif order.status in [order.Canceled, order.Margin, order.Rejected]:\n",
    "            self.log('Order Failed')\n",
    "        # set no pending order\n",
    "            self.order = None\n",
    "        \n",
    "    def notify_trade(self, trade):\n",
    "        if not trade.isclosed:\n",
    "            return\n",
    "        \n",
    "        self.log(f'OPERATION RESULT --- Gross: {trade.pnl:.2f}, Net: {trade.pnlcomm:.2f}')\n",
    "        \n",
    "    def next_open(self):\n",
    "        if not self.position:\n",
    "            if self.buy_signal > 0:\n",
    "                # calculate the max number of shares ('all-in')\n",
    "                size = int(self.broker.getcash()/self.datas[0].open)\n",
    "\n",
    "                # buy order\n",
    "                self.log(f'BUY CREATED --- Size: {size}, Cash: {self.broker.getcash():.2f}, Open: {self.data_open[0]:.2f}, Close: {self.data_close[0]:.2f}')\n",
    "                self.buy(size=size)\n",
    "                \n",
    "        else:\n",
    "            if self.sell_signal < 0:\n",
    "                # sell order\n",
    "                self.log(f'SELL CREATED --- Size: {self.position.size}')\n",
    "                self.sell(size=self.position.size)"
   ]
  },
  {
   "cell_type": "markdown",
   "metadata": {},
   "source": [
    "2- Set up the backtest"
   ]
  },
  {
   "cell_type": "code",
   "execution_count": 4,
   "metadata": {},
   "outputs": [],
   "source": [
    "cerebro = bt.Cerebro(stdstats=False, cheat_on_open=True)\n",
    "\n",
    "cerebro.adddata(data)\n",
    "cerebro.addstrategy(BBand_Strategy)\n",
    "cerebro.broker.setcash(10000.0)\n",
    "cerebro.broker.setcommission(commission=0.001)\n",
    "cerebro.addobserver(bt.observers.BuySell)\n",
    "cerebro.addobserver(bt.observers.Value)\n",
    "cerebro.addanalyzer(bt.analyzers.Returns, _name='returns')\n",
    "cerebro.addanalyzer(bt.analyzers.TimeReturn, _name='time_return')"
   ]
  },
  {
   "cell_type": "markdown",
   "metadata": {},
   "source": [
    "3- Run the backtest"
   ]
  },
  {
   "cell_type": "code",
   "execution_count": 5,
   "metadata": {},
   "outputs": [
    {
     "name": "stdout",
     "output_type": "stream",
     "text": [
      "Starting Portfolio Value: 10000.00\n",
      "2020-03-03, BUY CREATED --- Size: 101, Cash: 10000.00, Open: 98.77, Close: 95.45\n",
      "2020-03-03, BUY EXECUTED --- Price: 98.77, Cost: 9975.62, Commission: 9.98\n",
      "2020-04-20, SELL CREATED --- Size: 101\n",
      "2020-04-20, SELL EXECUTED --- Price: 119.50, Cost: 9975.62, Commission: 12.07\n",
      "2020-04-20, OPERATION RESULT --- Gross: 2093.63, Net: 2071.58\n",
      "2020-11-03, BUY CREATED --- Size: 79, Cash: 12071.58, Open: 150.93, Close: 152.42\n",
      "2020-11-03, BUY EXECUTED --- Price: 150.93, Cost: 11923.19, Commission: 11.92\n",
      "2020-12-18, SELL CREATED --- Size: 79\n",
      "2020-12-18, SELL EXECUTED --- Price: 162.20, Cost: 11923.19, Commission: 12.81\n",
      "2020-12-18, OPERATION RESULT --- Gross: 890.57, Net: 865.83\n",
      "Final Portfolio Value: 12937.41\n"
     ]
    }
   ],
   "source": [
    "print(f'Starting Portfolio Value: {cerebro.broker.getvalue():.2f}')\n",
    "backtest_result = cerebro.run()\n",
    "print(f'Final Portfolio Value: {cerebro.broker.getvalue():.2f}')"
   ]
  },
  {
   "cell_type": "markdown",
   "metadata": {},
   "source": [
    "4- Plot Result"
   ]
  },
  {
   "cell_type": "code",
   "execution_count": 6,
   "metadata": {},
   "outputs": [
    {
     "data": {
      "text/plain": [
       "[[<Figure size 2100x1019 with 4 Axes>]]"
      ]
     },
     "execution_count": 6,
     "metadata": {},
     "output_type": "execute_result"
    }
   ],
   "source": [
    "cerebro.plot(iplot=False, volume=False)"
   ]
  },
  {
   "cell_type": "markdown",
   "metadata": {},
   "source": [
    "5- Run to investigate different returns metrics"
   ]
  },
  {
   "cell_type": "code",
   "execution_count": 7,
   "metadata": {},
   "outputs": [
    {
     "name": "stdout",
     "output_type": "stream",
     "text": [
      "OrderedDict([('rtot', 0.25753828501126214), ('ravg', 0.0010219773214732624), ('rnorm', 0.2937413409339904), ('rnorm100', 29.37413409339904)])\n"
     ]
    }
   ],
   "source": [
    "print(backtest_result[0].analyzers.returns.get_analysis())"
   ]
  },
  {
   "cell_type": "markdown",
   "metadata": {},
   "source": [
    "6- Create a plot of daily portfolio returns"
   ]
  },
  {
   "cell_type": "code",
   "execution_count": 8,
   "metadata": {},
   "outputs": [],
   "source": [
    "plt.style.use('seaborn-v0_8')\n",
    "plt.rcParams['figure.figsize'] = [8, 4.5]\n",
    "plt.rcParams['figure.dpi'] = 300\n",
    "warnings.simplefilter(action='ignore', category=FutureWarning)"
   ]
  },
  {
   "cell_type": "code",
   "execution_count": 9,
   "metadata": {
    "scrolled": true
   },
   "outputs": [],
   "source": [
    "returns_dict = backtest_result[0].analyzers.time_return.get_analysis()\n",
    "returns_df = pd.DataFrame(list(returns_dict.items()),\n",
    "                          columns=['report_date', 'return']).set_index('report_date')\n",
    "returns_df.plot(title='Portfolio Returns')\n",
    "\n",
    "plt.tight_layout()\n",
    "plt.show()"
   ]
  }
 ],
 "metadata": {
  "kernelspec": {
   "display_name": "Python 3 (ipykernel)",
   "language": "python",
   "name": "python3"
  },
  "language_info": {
   "codemirror_mode": {
    "name": "ipython",
    "version": 3
   },
   "file_extension": ".py",
   "mimetype": "text/x-python",
   "name": "python",
   "nbconvert_exporter": "python",
   "pygments_lexer": "ipython3",
   "version": "3.11.7"
  }
 },
 "nbformat": 4,
 "nbformat_minor": 4
}

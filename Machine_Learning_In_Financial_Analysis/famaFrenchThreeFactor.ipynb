{
 "cells": [
  {
   "cell_type": "markdown",
   "id": "bf18081f-b2fe-4496-9369-3614246265ee",
   "metadata": {},
   "source": [
    "# Fama-French Three-Factor Model"
   ]
  },
  {
   "cell_type": "markdown",
   "id": "2da8b8c1-f4ba-4ed7-8884-404b9be3088b",
   "metadata": {},
   "source": [
    "`Fama-French Three-factor Model` is an extension of the Capital Asset Pricing Model (CAPM). \\\n",
    "The Fama-French model aims to describe stock returns through three factors: \\\n",
    "(1) market risk \\\n",
    "(2) the outperformance of small-cap companies relative to large-cap companies \\\n",
    "(3) the outperformance of high book-to-market value companies versus low book-to-market value companies. \\\n",
    "The rationale behind the model is that high value and small-cap companies tend to regularly outperform the overall market. (CFI TEAM)"
   ]
  },
  {
   "cell_type": "code",
   "execution_count": 1,
   "id": "8cee97c5-ed8d-4454-a366-79fd5fd1c467",
   "metadata": {},
   "outputs": [],
   "source": [
    "import pandas as pd\n",
    "import yfinance as yf\n",
    "import statsmodels.formula.api as smf"
   ]
  },
  {
   "cell_type": "markdown",
   "id": "f05f09cd-8cfd-4d5b-ab8f-d5797b59f4da",
   "metadata": {},
   "source": [
    "1- Define parameters"
   ]
  },
  {
   "cell_type": "code",
   "execution_count": 7,
   "id": "7803ede0-27ad-42ad-a045-969fca5e71ed",
   "metadata": {},
   "outputs": [],
   "source": [
    "RISKY_ASSET = 'META'\n",
    "START_DATE = '2013-12-31'\n",
    "END_DATE = '2018-12-31'"
   ]
  },
  {
   "cell_type": "markdown",
   "id": "92ceaa5b-3a6a-4560-8437-c138dadcb090",
   "metadata": {},
   "source": [
    "2- Load data from the source CSV file and keep only the monthly data"
   ]
  },
  {
   "cell_type": "code",
   "execution_count": 3,
   "id": "fd74eb22-29e4-448d-a7d5-c33fa0cf1f24",
   "metadata": {},
   "outputs": [],
   "source": [
    "# Load data from CSV\n",
    "factor_df = pd.read_csv('.\\data\\F-F_Research_Data_Factors.CSV', skiprows=3)\n",
    "\n",
    "# Identify where the annual data starts\n",
    "STR_TO_MATCH = ' Annual Factors: January-December '\n",
    "indices = factor_df.iloc[:, 0] == STR_TO_MATCH\n",
    "start_of_annual = factor_df[indices].index[0]\n",
    "\n",
    "# Keep only monthly data\n",
    "factor_df = factor_df[factor_df.index < start_of_annual]"
   ]
  },
  {
   "cell_type": "markdown",
   "id": "942f86b9-59e4-452d-a5e4-987f623a9e26",
   "metadata": {},
   "source": [
    "3- Rename columns of the DataFrame set a datetime index and filter by dates"
   ]
  },
  {
   "cell_type": "code",
   "execution_count": 4,
   "id": "8ad716b1-9f25-4cac-8f75-fd94c046fbaf",
   "metadata": {},
   "outputs": [],
   "source": [
    "# Rename columns\n",
    "factor_df.columns = ['date', 'mkt', 'smb', 'hml', 'rf']\n",
    "\n",
    "# Convert strings to datetime\n",
    "factor_df['date'] = pd.to_datetime(factor_df['date'], format='%Y%m').dt.strftime(\"%Y-%m\")\n",
    "\n",
    "# Set index\n",
    "factor_df = factor_df.set_index('date')\n",
    "\n",
    "# Filter only required dates\n",
    "factor_df = factor_df.loc[START_DATE:END_DATE]"
   ]
  },
  {
   "cell_type": "markdown",
   "id": "4b651098-baf0-475e-ba28-7a65f38d3e62",
   "metadata": {},
   "source": [
    "4- Convert the values to numeric and divide by 100"
   ]
  },
  {
   "cell_type": "code",
   "execution_count": 5,
   "id": "f3141ecf-0d03-48f3-829c-e575e7b58506",
   "metadata": {},
   "outputs": [
    {
     "data": {
      "text/html": [
       "<div>\n",
       "<style scoped>\n",
       "    .dataframe tbody tr th:only-of-type {\n",
       "        vertical-align: middle;\n",
       "    }\n",
       "\n",
       "    .dataframe tbody tr th {\n",
       "        vertical-align: top;\n",
       "    }\n",
       "\n",
       "    .dataframe thead th {\n",
       "        text-align: right;\n",
       "    }\n",
       "</style>\n",
       "<table border=\"1\" class=\"dataframe\">\n",
       "  <thead>\n",
       "    <tr style=\"text-align: right;\">\n",
       "      <th></th>\n",
       "      <th>mkt</th>\n",
       "      <th>smb</th>\n",
       "      <th>hml</th>\n",
       "      <th>rf</th>\n",
       "    </tr>\n",
       "    <tr>\n",
       "      <th>date</th>\n",
       "      <th></th>\n",
       "      <th></th>\n",
       "      <th></th>\n",
       "      <th></th>\n",
       "    </tr>\n",
       "  </thead>\n",
       "  <tbody>\n",
       "    <tr>\n",
       "      <th>2014-01</th>\n",
       "      <td>-0.0332</td>\n",
       "      <td>0.0085</td>\n",
       "      <td>-0.0209</td>\n",
       "      <td>0.0</td>\n",
       "    </tr>\n",
       "    <tr>\n",
       "      <th>2014-02</th>\n",
       "      <td>0.0465</td>\n",
       "      <td>0.0034</td>\n",
       "      <td>-0.0040</td>\n",
       "      <td>0.0</td>\n",
       "    </tr>\n",
       "    <tr>\n",
       "      <th>2014-03</th>\n",
       "      <td>0.0043</td>\n",
       "      <td>-0.0189</td>\n",
       "      <td>0.0509</td>\n",
       "      <td>0.0</td>\n",
       "    </tr>\n",
       "    <tr>\n",
       "      <th>2014-04</th>\n",
       "      <td>-0.0019</td>\n",
       "      <td>-0.0424</td>\n",
       "      <td>0.0114</td>\n",
       "      <td>0.0</td>\n",
       "    </tr>\n",
       "    <tr>\n",
       "      <th>2014-05</th>\n",
       "      <td>0.0206</td>\n",
       "      <td>-0.0186</td>\n",
       "      <td>-0.0027</td>\n",
       "      <td>0.0</td>\n",
       "    </tr>\n",
       "  </tbody>\n",
       "</table>\n",
       "</div>"
      ],
      "text/plain": [
       "            mkt     smb     hml   rf\n",
       "date                                \n",
       "2014-01 -0.0332  0.0085 -0.0209  0.0\n",
       "2014-02  0.0465  0.0034 -0.0040  0.0\n",
       "2014-03  0.0043 -0.0189  0.0509  0.0\n",
       "2014-04 -0.0019 -0.0424  0.0114  0.0\n",
       "2014-05  0.0206 -0.0186 -0.0027  0.0"
      ]
     },
     "execution_count": 5,
     "metadata": {},
     "output_type": "execute_result"
    }
   ],
   "source": [
    "factor_df = factor_df.apply(pd.to_numeric, errors='coerce').div(100)\n",
    "factor_df.head()"
   ]
  },
  {
   "cell_type": "markdown",
   "id": "538bc5ac-de77-45d5-9e3a-73f81278d35d",
   "metadata": {},
   "source": [
    "5- Download the prices of the risky asset"
   ]
  },
  {
   "cell_type": "code",
   "execution_count": 8,
   "id": "0f1c130b-b086-4268-9a2a-380b6e7d3fec",
   "metadata": {},
   "outputs": [
    {
     "name": "stdout",
     "output_type": "stream",
     "text": [
      "[*********************100%%**********************]  1 of 1 completed\n",
      "Download 1258 rowns of data\n"
     ]
    }
   ],
   "source": [
    "asset_df = yf.download(RISKY_ASSET, start=START_DATE, end=END_DATE)\n",
    "print(f'Download {asset_df.shape[0]} rowns of data')"
   ]
  },
  {
   "cell_type": "markdown",
   "id": "fa4d4710-b88f-4ddc-840c-219dc3e05296",
   "metadata": {},
   "source": [
    "6- Calculate monthly returns on the risky asset"
   ]
  },
  {
   "cell_type": "code",
   "execution_count": 9,
   "id": "a9c8b226-1e37-4ef6-a8e4-592e9920296a",
   "metadata": {},
   "outputs": [
    {
     "data": {
      "text/plain": [
       "Date\n",
       "2014-01    0.144922\n",
       "2014-02    0.094135\n",
       "2014-03   -0.120070\n",
       "2014-04   -0.007636\n",
       "2014-05    0.058883\n",
       "Name: rtn, dtype: float64"
      ]
     },
     "execution_count": 9,
     "metadata": {},
     "output_type": "execute_result"
    }
   ],
   "source": [
    "y = asset_df['Adj Close'].resample('M') \\\n",
    "                            .last() \\\n",
    "                            .pct_change() \\\n",
    "                            .dropna()\n",
    "\n",
    "y.index = y.index.strftime('%Y-%m')\n",
    "y.name = 'rtn'\n",
    "y.head()"
   ]
  },
  {
   "cell_type": "markdown",
   "id": "9ff20c76-ae66-4019-95c8-c6ea7a8f0e4a",
   "metadata": {},
   "source": [
    "7- Merge the datasets and calculate excess returns"
   ]
  },
  {
   "cell_type": "code",
   "execution_count": 10,
   "id": "08cfb254-3107-41a7-9b06-89fbcd748f3d",
   "metadata": {},
   "outputs": [],
   "source": [
    "ff_data = factor_df.join(y)\n",
    "ff_data['excess_rtn'] = ff_data.rtn - ff_data.rf"
   ]
  },
  {
   "cell_type": "markdown",
   "id": "e77f7b9d-7060-49a9-b82e-8e265337895f",
   "metadata": {},
   "source": [
    "8- Estimate the Three-Factor Model"
   ]
  },
  {
   "cell_type": "code",
   "execution_count": 11,
   "id": "b4e0ee77-ea2e-46bc-8f39-edaf78e93245",
   "metadata": {},
   "outputs": [
    {
     "name": "stdout",
     "output_type": "stream",
     "text": [
      "                            OLS Regression Results                            \n",
      "==============================================================================\n",
      "Dep. Variable:             excess_rtn   R-squared:                       0.217\n",
      "Model:                            OLS   Adj. R-squared:                  0.175\n",
      "Method:                 Least Squares   F-statistic:                     5.175\n",
      "Date:                Wed, 14 Feb 2024   Prob (F-statistic):            0.00316\n",
      "Time:                        18:07:12   Log-Likelihood:                 88.392\n",
      "No. Observations:                  60   AIC:                            -168.8\n",
      "Df Residuals:                      56   BIC:                            -160.4\n",
      "Df Model:                           3                                         \n",
      "Covariance Type:            nonrobust                                         \n",
      "==============================================================================\n",
      "                 coef    std err          t      P>|t|      [0.025      0.975]\n",
      "------------------------------------------------------------------------------\n",
      "Intercept      0.0105      0.008      1.373      0.175      -0.005       0.026\n",
      "mkt            0.5138      0.237      2.166      0.035       0.039       0.989\n",
      "smb           -0.1618      0.301     -0.538      0.593      -0.765       0.441\n",
      "hml           -0.9604      0.312     -3.074      0.003      -1.586      -0.335\n",
      "==============================================================================\n",
      "Omnibus:                        0.008   Durbin-Watson:                   1.780\n",
      "Prob(Omnibus):                  0.996   Jarque-Bera (JB):                0.150\n",
      "Skew:                          -0.006   Prob(JB):                        0.928\n",
      "Kurtosis:                       2.755   Cond. No.                         44.5\n",
      "==============================================================================\n",
      "\n",
      "Notes:\n",
      "[1] Standard Errors assume that the covariance matrix of the errors is correctly specified.\n"
     ]
    }
   ],
   "source": [
    "# Define and fit the regression model\n",
    "ff_model = smf.ols(formula='excess_rtn ~ mkt + smb + hml', data=ff_data).fit()\n",
    "\n",
    "# Print results\n",
    "print(ff_model.summary())"
   ]
  }
 ],
 "metadata": {
  "kernelspec": {
   "display_name": "Python 3 (ipykernel)",
   "language": "python",
   "name": "python3"
  },
  "language_info": {
   "codemirror_mode": {
    "name": "ipython",
    "version": 3
   },
   "file_extension": ".py",
   "mimetype": "text/x-python",
   "name": "python",
   "nbconvert_exporter": "python",
   "pygments_lexer": "ipython3",
   "version": "3.11.7"
  }
 },
 "nbformat": 4,
 "nbformat_minor": 5
}

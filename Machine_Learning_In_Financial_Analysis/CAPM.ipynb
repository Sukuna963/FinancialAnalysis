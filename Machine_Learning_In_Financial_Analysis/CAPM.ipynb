{
 "cells": [
  {
   "cell_type": "code",
   "execution_count": 1,
   "id": "5519197a-3a43-44a2-a3c0-99d710a31001",
   "metadata": {},
   "outputs": [],
   "source": [
    "%matplotlib inline\n",
    "%config InlineBackend.figure_format = 'retina'"
   ]
  },
  {
   "cell_type": "code",
   "execution_count": 2,
   "id": "7f041d03-06a4-4e66-af06-71e350ada194",
   "metadata": {},
   "outputs": [],
   "source": [
    "import matplotlib.pyplot as plt\n",
    "import seaborn as sns\n",
    "import warnings\n",
    "\n",
    "sns.set_theme(style=\"darkgrid\")\n",
    "plt.rcParams['figure.figsize'] = [8, 4.5]\n",
    "plt.rcParams['figure.dpi'] = 300\n",
    "warnings.simplefilter(action='ignore', category=FutureWarning)"
   ]
  },
  {
   "cell_type": "markdown",
   "id": "2d2b54c4-de2b-41e1-9a2f-8efba061c26b",
   "metadata": {},
   "source": [
    "# CPMA"
   ]
  },
  {
   "cell_type": "markdown",
   "id": "e84943c2-d868-4ad2-be00-05df9c7c5ad2",
   "metadata": {},
   "source": [
    "`Capital Asset Pricing Model (CAPM)` is a model that describes the relationship between the expected return and risk of investing in a security. \\\n",
    "It shows that the expected return on a security is equal to the risk-free return plus a risk premium, which is based on the beta of that security. \\\n",
    "Below is an illustration of the CAPM concept. (CFI TEAM)"
   ]
  },
  {
   "cell_type": "code",
   "execution_count": 3,
   "id": "9ee9eb14-e9ff-43ef-9dfa-ca7b9f2e693c",
   "metadata": {},
   "outputs": [],
   "source": [
    "import pandas as pd\n",
    "import yfinance as yf\n",
    "import statsmodels.api as sm"
   ]
  },
  {
   "cell_type": "markdown",
   "id": "d587c87c-218c-4bfb-b27a-eb75ef3710d3",
   "metadata": {},
   "source": [
    "1- Specify the risky asset and the time horizon"
   ]
  },
  {
   "cell_type": "code",
   "execution_count": 4,
   "id": "7bc590d5-de23-4ef1-b6de-e06fe50fab62",
   "metadata": {},
   "outputs": [],
   "source": [
    "RISKY_ASSET = 'AMZN'\n",
    "MARKET_BENCHMARK = '^GSPC'\n",
    "START_DATE = '2014-01-01'\n",
    "END_DATE = '2018-12-31'"
   ]
  },
  {
   "cell_type": "markdown",
   "id": "f20d887d-4cb0-49ee-9e9f-a0b6b05dffd9",
   "metadata": {},
   "source": [
    "2- Download data from Yahoo Finance"
   ]
  },
  {
   "cell_type": "code",
   "execution_count": 6,
   "id": "3052ec62-6fd7-41f1-928c-0400a200a9f2",
   "metadata": {},
   "outputs": [
    {
     "name": "stdout",
     "output_type": "stream",
     "text": [
      "[*********************100%%**********************]  2 of 2 completed\n",
      "Download 1257 rows of date\n"
     ]
    }
   ],
   "source": [
    "df = yf.download([RISKY_ASSET, MARKET_BENCHMARK], start=START_DATE, end=END_DATE)\n",
    "print(f'Download {df.shape[0]} rows of date')"
   ]
  },
  {
   "cell_type": "markdown",
   "id": "d4ca5fa1-157c-4b59-9278-0fa089a3077d",
   "metadata": {},
   "source": [
    "3- Resample to monthly data and calculate simple returns"
   ]
  },
  {
   "cell_type": "code",
   "execution_count": 9,
   "id": "cf2fe481-2438-4e05-8142-c193600dc131",
   "metadata": {},
   "outputs": [
    {
     "data": {
      "text/html": [
       "<div>\n",
       "<style scoped>\n",
       "    .dataframe tbody tr th:only-of-type {\n",
       "        vertical-align: middle;\n",
       "    }\n",
       "\n",
       "    .dataframe tbody tr th {\n",
       "        vertical-align: top;\n",
       "    }\n",
       "\n",
       "    .dataframe thead th {\n",
       "        text-align: right;\n",
       "    }\n",
       "</style>\n",
       "<table border=\"1\" class=\"dataframe\">\n",
       "  <thead>\n",
       "    <tr style=\"text-align: right;\">\n",
       "      <th></th>\n",
       "      <th>asset</th>\n",
       "      <th>market</th>\n",
       "    </tr>\n",
       "    <tr>\n",
       "      <th>Date</th>\n",
       "      <th></th>\n",
       "      <th></th>\n",
       "    </tr>\n",
       "  </thead>\n",
       "  <tbody>\n",
       "    <tr>\n",
       "      <th>2014-02-28</th>\n",
       "      <td>0.009507</td>\n",
       "      <td>0.043117</td>\n",
       "    </tr>\n",
       "    <tr>\n",
       "      <th>2014-03-31</th>\n",
       "      <td>-0.071058</td>\n",
       "      <td>0.006932</td>\n",
       "    </tr>\n",
       "    <tr>\n",
       "      <th>2014-04-30</th>\n",
       "      <td>-0.095847</td>\n",
       "      <td>0.006201</td>\n",
       "    </tr>\n",
       "    <tr>\n",
       "      <th>2014-05-31</th>\n",
       "      <td>0.027685</td>\n",
       "      <td>0.021030</td>\n",
       "    </tr>\n",
       "    <tr>\n",
       "      <th>2014-06-30</th>\n",
       "      <td>0.039130</td>\n",
       "      <td>0.019058</td>\n",
       "    </tr>\n",
       "  </tbody>\n",
       "</table>\n",
       "</div>"
      ],
      "text/plain": [
       "               asset    market\n",
       "Date                          \n",
       "2014-02-28  0.009507  0.043117\n",
       "2014-03-31 -0.071058  0.006932\n",
       "2014-04-30 -0.095847  0.006201\n",
       "2014-05-31  0.027685  0.021030\n",
       "2014-06-30  0.039130  0.019058"
      ]
     },
     "execution_count": 9,
     "metadata": {},
     "output_type": "execute_result"
    }
   ],
   "source": [
    "X = df['Adj Close'].rename(columns={RISKY_ASSET: 'asset', MARKET_BENCHMARK: 'market'}) \\\n",
    "                    .resample('M') \\\n",
    "                    .last() \\\n",
    "                    .pct_change() \\\n",
    "                    .dropna()\n",
    "\n",
    "X.head()"
   ]
  },
  {
   "cell_type": "markdown",
   "id": "153b9a43-e6e7-4803-ad21-579de30b7e49",
   "metadata": {},
   "source": [
    "4- Calculate beta using the covariance approach"
   ]
  },
  {
   "cell_type": "code",
   "execution_count": 11,
   "id": "b2cf3393-8cfc-4128-b219-57214aa1a9ec",
   "metadata": {},
   "outputs": [
    {
     "data": {
      "text/plain": [
       "1.6296082618965537"
      ]
     },
     "execution_count": 11,
     "metadata": {},
     "output_type": "execute_result"
    }
   ],
   "source": [
    "covariance = X.cov().iloc[0,1]\n",
    "benchmark_variance = X.market.var()\n",
    "beta = covariance / benchmark_variance\n",
    "beta"
   ]
  },
  {
   "cell_type": "markdown",
   "id": "523a4831-6d55-4bfd-b3a9-1c5a3d6bc411",
   "metadata": {},
   "source": [
    "5- Prepare the input and estimate CAPM as a linear regression"
   ]
  },
  {
   "cell_type": "code",
   "execution_count": 12,
   "id": "93f30c03-e89f-4b15-b988-80a1ccbd7caf",
   "metadata": {},
   "outputs": [
    {
     "name": "stdout",
     "output_type": "stream",
     "text": [
      "                            OLS Regression Results                            \n",
      "==============================================================================\n",
      "Dep. Variable:                  asset   R-squared:                       0.365\n",
      "Model:                            OLS   Adj. R-squared:                  0.354\n",
      "Method:                 Least Squares   F-statistic:                     32.77\n",
      "Date:                Wed, 14 Feb 2024   Prob (F-statistic):           4.05e-07\n",
      "Time:                        17:09:53   Log-Likelihood:                 75.313\n",
      "No. Observations:                  59   AIC:                            -146.6\n",
      "Df Residuals:                      57   BIC:                            -142.5\n",
      "Df Model:                           1                                         \n",
      "Covariance Type:            nonrobust                                         \n",
      "==============================================================================\n",
      "                 coef    std err          t      P>|t|      [0.025      0.975]\n",
      "------------------------------------------------------------------------------\n",
      "const          0.0178      0.009      1.950      0.056      -0.000       0.036\n",
      "market         1.6296      0.285      5.724      0.000       1.060       2.200\n",
      "==============================================================================\n",
      "Omnibus:                        3.055   Durbin-Watson:                   1.864\n",
      "Prob(Omnibus):                  0.217   Jarque-Bera (JB):                2.368\n",
      "Skew:                           0.482   Prob(JB):                        0.306\n",
      "Kurtosis:                       3.185   Cond. No.                         31.8\n",
      "==============================================================================\n",
      "\n",
      "Notes:\n",
      "[1] Standard Errors assume that the covariance matrix of the errors is correctly specified.\n"
     ]
    }
   ],
   "source": [
    "#separate target\n",
    "y = X.pop('asset')\n",
    "\n",
    "#add constant\n",
    "X = sm.add_constant(X)\n",
    "\n",
    "#define and fit the regression model\n",
    "capm_model = sm.OLS(y, X).fit()\n",
    "\n",
    "#print results\n",
    "print(capm_model.summary())"
   ]
  }
 ],
 "metadata": {
  "kernelspec": {
   "display_name": "Python 3 (ipykernel)",
   "language": "python",
   "name": "python3"
  },
  "language_info": {
   "codemirror_mode": {
    "name": "ipython",
    "version": 3
   },
   "file_extension": ".py",
   "mimetype": "text/x-python",
   "name": "python",
   "nbconvert_exporter": "python",
   "pygments_lexer": "ipython3",
   "version": "3.11.7"
  }
 },
 "nbformat": 4,
 "nbformat_minor": 5
}

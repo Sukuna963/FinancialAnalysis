{
 "cells": [
  {
   "cell_type": "markdown",
   "metadata": {},
   "source": [
    "# Backtesting a Strategy Based on Simple Moving Average"
   ]
  },
  {
   "cell_type": "code",
   "execution_count": 1,
   "metadata": {},
   "outputs": [],
   "source": [
    "import backtrader as bt\n",
    "import matplotlib.pyplot as plt\n",
    "from datetime import datetime\n",
    "import pandas as pd\n",
    "import warnings\n",
    "import yfinance as yf\n",
    "\n",
    "# plt.style.use('seaborn')\n",
    "# plt.style.use('seaborn-colorblind') #alternative\n",
    "plt.rcParams['figure.figsize'] = [7, 7]\n",
    "plt.rcParams['figure.dpi'] = 300\n",
    "warnings.simplefilter(action='ignore', category=FutureWarning)"
   ]
  },
  {
   "cell_type": "markdown",
   "metadata": {},
   "source": [
    "1- Define a class representing the trading strategy"
   ]
  },
  {
   "cell_type": "code",
   "execution_count": 2,
   "metadata": {},
   "outputs": [],
   "source": [
    "class smaSignal(bt.Signal):\n",
    "    params = (('period', 20), )\n",
    "\n",
    "    def __init__(self):\n",
    "        self.lines.signal = self.data - bt.ind.SMA(period=self.p.period)"
   ]
  },
  {
   "cell_type": "markdown",
   "metadata": {},
   "source": [
    "2- Download data from Yahoo Finance"
   ]
  },
  {
   "cell_type": "code",
   "execution_count": 3,
   "metadata": {},
   "outputs": [
    {
     "name": "stdout",
     "output_type": "stream",
     "text": [
      "[*********************100%%**********************]  1 of 1 completed\n"
     ]
    }
   ],
   "source": [
    "data = bt.feeds.PandasData(dataname=yf.download(\"AMZN\", start=\"2020-01-01\", end=\"2020-12-31\"))"
   ]
  },
  {
   "cell_type": "markdown",
   "metadata": {},
   "source": [
    "3- Set up the backtest"
   ]
  },
  {
   "cell_type": "code",
   "execution_count": 4,
   "metadata": {},
   "outputs": [],
   "source": [
    "cerebro = bt.Cerebro(stdstats=False)\n",
    "\n",
    "cerebro.adddata(data)\n",
    "cerebro.broker.setcash(1000.0)\n",
    "cerebro.add_signal(bt.SIGNAL_LONG, smaSignal)\n",
    "cerebro.addobserver(bt.observers.BuySell)\n",
    "cerebro.addobserver(bt.observers.Value)"
   ]
  },
  {
   "cell_type": "markdown",
   "metadata": {},
   "source": [
    "4- Run the backtest"
   ]
  },
  {
   "cell_type": "code",
   "execution_count": 5,
   "metadata": {},
   "outputs": [
    {
     "name": "stdout",
     "output_type": "stream",
     "text": [
      "Starting Portfolio Value: 1000.00\n",
      "Final Portfolio Value: 1016.78\n"
     ]
    }
   ],
   "source": [
    "print(f'Starting Portfolio Value: {cerebro.broker.getvalue():.2f}')\n",
    "cerebro.run()\n",
    "print(f'Final Portfolio Value: {cerebro.broker.getvalue():.2f}')"
   ]
  },
  {
   "cell_type": "markdown",
   "metadata": {},
   "source": [
    "5- Plot the results"
   ]
  },
  {
   "cell_type": "code",
   "execution_count": 6,
   "metadata": {},
   "outputs": [
    {
     "data": {
      "text/plain": [
       "[[<Figure size 2100x1019 with 3 Axes>]]"
      ]
     },
     "execution_count": 6,
     "metadata": {},
     "output_type": "execute_result"
    }
   ],
   "source": [
    "cerebro.plot(iplot=False, volume=False)"
   ]
  },
  {
   "cell_type": "markdown",
   "metadata": {},
   "source": [
    "## Strategy"
   ]
  },
  {
   "cell_type": "markdown",
   "metadata": {},
   "source": [
    "1- The template of the strategy looks like"
   ]
  },
  {
   "cell_type": "code",
   "execution_count": 7,
   "metadata": {},
   "outputs": [],
   "source": [
    "class SmaStrategy(bt.Strategy):\n",
    "    params = (('ma_period', 20), )\n",
    "    \n",
    "    def __init__(self):\n",
    "        # keep track of close price in the series\n",
    "        self.data_close = self.datas[0].close\n",
    "        \n",
    "        # keep track of pending orders/buy price/buy commission\n",
    "        self.order = None\n",
    "        self.price = None\n",
    "        self.comm = None\n",
    "        \n",
    "        # add a simple moving average indicator\n",
    "        self.sma = bt.ind.SMA(self.datas[0],\n",
    "                             period=self.params.ma_period)\n",
    "        \n",
    "    def log(self, txt):\n",
    "        dt = self.datas[0].datetime.date(0).isoformat()\n",
    "        print(f'{dt}, {txt}')\n",
    "        \n",
    "    def notify_order(self, order):\n",
    "        if order.status in [order.Submitted, order.Accepted]:\n",
    "            # order already submitted/accepted - no action required\n",
    "            return\n",
    "        \n",
    "        # report executed order\n",
    "        if order.status in [order.Completed]:\n",
    "            if order.isbuy():\n",
    "                self.log(f'BUY EXECUTED --- Price: {order.executed.price:.2f}, Cost: {order.executed.value:.2f}, Commission: {order.executed.comm:.2f}')\n",
    "                self.price = order.executed.price\n",
    "                self.comm = order.executed.comm\n",
    "        # report failed order\n",
    "        elif order.status in [order.Canceled, order.Margin, \n",
    "                             order.Rejected]:\n",
    "            self.log('Order Failed')\n",
    "        # set no pending order\n",
    "        self.order = None\n",
    "        \n",
    "    def notify_trade(self, trade):\n",
    "        if not trade.isclosed:\n",
    "            return\n",
    "        \n",
    "        self.log(f'OPERATION RESULT --- Gross: {trade.pnl:.2f}, Net: {trade.pnlcomm:.2f}')\n",
    "        \n",
    "    def next(self):\n",
    "        # do nothing if an order is pending\n",
    "        if self.order:\n",
    "            return\n",
    "        \n",
    "        # check if there is already a position\n",
    "        if not self.position:\n",
    "            # buy condition\n",
    "            if self.data_close[0] > self.sma[0]:\n",
    "                self.log(f'BUY CREATED --- Price: {self.data_close[0]:.2f}')\n",
    "                self.order = self.buy()\n",
    "                \n",
    "        else:\n",
    "            # sell condition\n",
    "            if self.data_close[0] < self.sma[0]:            \n",
    "                self.log(f'SELL CREATED --- Price: {self.data_close[0]:.2f}')\n",
    "                self.order = self.sell()"
   ]
  },
  {
   "cell_type": "markdown",
   "metadata": {},
   "source": [
    "2- Set up the backtest"
   ]
  },
  {
   "cell_type": "code",
   "execution_count": 8,
   "metadata": {},
   "outputs": [],
   "source": [
    "cerebro = bt.Cerebro(stdstats=False)\n",
    "\n",
    "cerebro.adddata(data)\n",
    "cerebro.broker.setcash(5000.0)\n",
    "cerebro.addstrategy(SmaStrategy)\n",
    "cerebro.addobserver(bt.observers.BuySell)\n",
    "cerebro.addobserver(bt.observers.Value)"
   ]
  },
  {
   "cell_type": "markdown",
   "metadata": {},
   "source": [
    "3- Run the backtest"
   ]
  },
  {
   "cell_type": "code",
   "execution_count": 9,
   "metadata": {},
   "outputs": [
    {
     "name": "stdout",
     "output_type": "stream",
     "text": [
      "Starting Portfolio Value: 5000.00\n",
      "2020-01-31, BUY CREATED --- Price: 100.44\n",
      "2020-02-03, BUY EXECUTED --- Price: 100.53, Cost: 100.53, Commission: 0.00\n",
      "2020-02-24, SELL CREATED --- Price: 100.46\n",
      "2020-02-25, OPERATION RESULT --- Gross: 0.79, Net: 0.79\n",
      "2020-03-23, BUY CREATED --- Price: 95.14\n",
      "2020-03-24, BUY EXECUTED --- Price: 97.57, Cost: 97.57, Commission: 0.00\n",
      "2020-05-12, SELL CREATED --- Price: 117.85\n",
      "2020-05-13, OPERATION RESULT --- Gross: 20.76, Net: 20.76\n",
      "2020-05-14, BUY CREATED --- Price: 119.44\n",
      "2020-05-15, BUY EXECUTED --- Price: 118.43, Cost: 118.43, Commission: 0.00\n",
      "2020-07-23, SELL CREATED --- Price: 149.33\n",
      "2020-07-24, OPERATION RESULT --- Gross: 28.07, Net: 28.07\n",
      "2020-07-24, BUY CREATED --- Price: 150.45\n",
      "2020-07-27, BUY EXECUTED --- Price: 153.10, Cost: 153.10, Commission: 0.00\n",
      "2020-07-28, SELL CREATED --- Price: 150.02\n",
      "2020-07-29, OPERATION RESULT --- Gross: -1.55, Net: -1.55\n",
      "2020-07-31, BUY CREATED --- Price: 158.23\n",
      "2020-08-03, BUY EXECUTED --- Price: 159.03, Cost: 159.03, Commission: 0.00\n",
      "2020-08-11, SELL CREATED --- Price: 154.03\n",
      "2020-08-12, OPERATION RESULT --- Gross: -3.63, Net: -3.63\n",
      "2020-08-12, BUY CREATED --- Price: 158.11\n",
      "2020-08-13, BUY EXECUTED --- Price: 159.15, Cost: 159.15, Commission: 0.00\n",
      "2020-09-04, SELL CREATED --- Price: 164.73\n",
      "2020-09-08, OPERATION RESULT --- Gross: -1.95, Net: -1.95\n",
      "2020-09-30, BUY CREATED --- Price: 157.44\n",
      "2020-10-01, BUY EXECUTED --- Price: 160.40, Cost: 160.40, Commission: 0.00\n",
      "2020-10-06, SELL CREATED --- Price: 155.00\n",
      "2020-10-07, OPERATION RESULT --- Gross: -3.65, Net: -3.65\n",
      "2020-10-07, BUY CREATED --- Price: 159.78\n",
      "2020-10-08, BUY EXECUTED --- Price: 161.25, Cost: 161.25, Commission: 0.00\n",
      "2020-10-21, SELL CREATED --- Price: 159.25\n",
      "2020-10-22, OPERATION RESULT --- Gross: -1.76, Net: -1.76\n",
      "2020-10-27, BUY CREATED --- Price: 164.32\n",
      "2020-10-28, BUY EXECUTED --- Price: 162.46, Cost: 162.46, Commission: 0.00\n",
      "2020-10-28, SELL CREATED --- Price: 158.14\n",
      "2020-10-29, OPERATION RESULT --- Gross: -2.40, Net: -2.40\n",
      "2020-11-04, BUY CREATED --- Price: 162.06\n",
      "2020-11-05, BUY EXECUTED --- Price: 166.00, Cost: 166.00, Commission: 0.00\n",
      "2020-11-09, SELL CREATED --- Price: 157.19\n",
      "2020-11-10, OPERATION RESULT --- Gross: -11.25, Net: -11.25\n",
      "2020-11-25, BUY CREATED --- Price: 159.25\n",
      "2020-11-27, BUY EXECUTED --- Price: 160.56, Cost: 160.56, Commission: 0.00\n",
      "2020-12-09, SELL CREATED --- Price: 155.21\n",
      "2020-12-10, OPERATION RESULT --- Gross: -6.11, Net: -6.11\n",
      "2020-12-14, BUY CREATED --- Price: 157.85\n",
      "2020-12-15, BUY EXECUTED --- Price: 159.05, Cost: 159.05, Commission: 0.00\n",
      "2020-12-24, SELL CREATED --- Price: 158.63\n",
      "2020-12-28, OPERATION RESULT --- Gross: 0.65, Net: 0.65\n",
      "2020-12-28, BUY CREATED --- Price: 164.20\n",
      "2020-12-29, BUY EXECUTED --- Price: 165.50, Cost: 165.50, Commission: 0.00\n",
      "Final Portfolio Value: 5016.78\n"
     ]
    }
   ],
   "source": [
    "print(f'Starting Portfolio Value: {cerebro.broker.getvalue():.2f}')\n",
    "cerebro.run()\n",
    "print(f'Final Portfolio Value: {cerebro.broker.getvalue():.2f}')"
   ]
  },
  {
   "cell_type": "markdown",
   "metadata": {},
   "source": [
    "4- Plot the result:"
   ]
  },
  {
   "cell_type": "code",
   "execution_count": 10,
   "metadata": {},
   "outputs": [
    {
     "data": {
      "text/plain": [
       "[[<Figure size 2100x1019 with 2 Axes>]]"
      ]
     },
     "execution_count": 10,
     "metadata": {},
     "output_type": "execute_result"
    }
   ],
   "source": [
    "cerebro.plot(iplot=False, volume=False)"
   ]
  }
 ],
 "metadata": {
  "kernelspec": {
   "display_name": "Python 3 (ipykernel)",
   "language": "python",
   "name": "python3"
  },
  "language_info": {
   "codemirror_mode": {
    "name": "ipython",
    "version": 3
   },
   "file_extension": ".py",
   "mimetype": "text/x-python",
   "name": "python",
   "nbconvert_exporter": "python",
   "pygments_lexer": "ipython3",
   "version": "3.11.7"
  }
 },
 "nbformat": 4,
 "nbformat_minor": 4
}

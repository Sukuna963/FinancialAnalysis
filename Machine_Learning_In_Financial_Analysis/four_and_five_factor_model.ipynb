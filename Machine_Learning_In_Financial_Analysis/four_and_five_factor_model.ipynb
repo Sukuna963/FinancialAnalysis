{
 "cells": [
  {
   "cell_type": "markdown",
   "id": "3913f254-e48a-48ff-8ba0-32636381d6fc",
   "metadata": {},
   "source": [
    "# Implementing The Four And Five Factor Models"
   ]
  },
  {
   "cell_type": "code",
   "execution_count": 7,
   "id": "1e609a21-0454-4ce9-ba9d-e37032f52ff0",
   "metadata": {},
   "outputs": [],
   "source": [
    "import pandas as pd\n",
    "import yfinance as yf\n",
    "import statsmodels.formula.api as smf\n",
    "import pandas_datareader.data as web\n",
    "import warnings\n",
    "\n",
    "warnings.simplefilter(action='ignore', category=FutureWarning)"
   ]
  },
  {
   "cell_type": "markdown",
   "id": "4095c6c7-cae4-4b09-81c5-689e6c0e4869",
   "metadata": {},
   "source": [
    "1- Specify the risky asset and the time horizon"
   ]
  },
  {
   "cell_type": "code",
   "execution_count": 4,
   "id": "87bf1f65-ad9b-4b8a-9077-d2fb91703786",
   "metadata": {},
   "outputs": [],
   "source": [
    "RISKY_ASSET = 'AMZN'\n",
    "START_DATE = '2013-12-31'\n",
    "END_DATE = '2018-12-31'"
   ]
  },
  {
   "cell_type": "markdown",
   "id": "2a27bffa-c859-4185-bcfd-212ae4fddb80",
   "metadata": {},
   "source": [
    "2- Download the risk factors from prof. French's website"
   ]
  },
  {
   "cell_type": "code",
   "execution_count": 8,
   "id": "eff64fb3-ca87-4307-b4ca-040461828026",
   "metadata": {},
   "outputs": [],
   "source": [
    "# three factors\n",
    "df_three_factor = web.DataReader('F-F_Research_Data_Factors', 'famafrench', start=START_DATE)[0]\n",
    "df_three_factor.index = df_three_factor.index.format()\n",
    "\n",
    "# momentum factor\n",
    "df_mom = web.DataReader('F-F_Momentum_factor', 'famafrench', start=START_DATE)[0]\n",
    "df_mom.index = df_mom.index.format()\n",
    "\n",
    "# five factors\n",
    "df_five_factor = web.DataReader('F-F_Research_Data_5_Factors_2x3', 'famafrench', start=START_DATE)[0]\n",
    "df_five_factor.index = df_five_factor.index.format()"
   ]
  },
  {
   "cell_type": "markdown",
   "id": "96178831-9e19-49a7-aa79-5c195449103a",
   "metadata": {},
   "source": [
    "3- Download the data of the risky asset from Yahoo Finance"
   ]
  },
  {
   "cell_type": "code",
   "execution_count": 9,
   "id": "bf7af7fc-2355-4e2f-8bdb-f65aa1dae369",
   "metadata": {},
   "outputs": [
    {
     "name": "stdout",
     "output_type": "stream",
     "text": [
      "[*********************100%%**********************]  1 of 1 completed\n",
      "Download 1258 rows of data\n"
     ]
    }
   ],
   "source": [
    "asset_df = yf.download(RISKY_ASSET, start=START_DATE, end=END_DATE)\n",
    "print(f'Download {asset_df.shape[0]} rows of data')"
   ]
  },
  {
   "cell_type": "markdown",
   "id": "96527f8a-d961-461e-8d51-9e613727ce51",
   "metadata": {},
   "source": [
    "4- Calculate monthly returns"
   ]
  },
  {
   "cell_type": "code",
   "execution_count": 11,
   "id": "c1979572-2880-40f2-b668-7b6d43486ea7",
   "metadata": {},
   "outputs": [],
   "source": [
    "y = asset_df['Adj Close'].resample('M').last().pct_change().dropna()\n",
    "y.index = y.index.strftime('%Y-%m')\n",
    "y.name = 'return'"
   ]
  },
  {
   "cell_type": "markdown",
   "id": "10330a8e-f5e7-4e43-b436-abd9fcd7a868",
   "metadata": {},
   "source": [
    "5- Merge the datasets for the four-factor model"
   ]
  },
  {
   "cell_type": "code",
   "execution_count": 12,
   "id": "6f537819-e987-4b0f-88d3-c69fd2c8e5c3",
   "metadata": {},
   "outputs": [
    {
     "data": {
      "text/html": [
       "<div>\n",
       "<style scoped>\n",
       "    .dataframe tbody tr th:only-of-type {\n",
       "        vertical-align: middle;\n",
       "    }\n",
       "\n",
       "    .dataframe tbody tr th {\n",
       "        vertical-align: top;\n",
       "    }\n",
       "\n",
       "    .dataframe thead th {\n",
       "        text-align: right;\n",
       "    }\n",
       "</style>\n",
       "<table border=\"1\" class=\"dataframe\">\n",
       "  <thead>\n",
       "    <tr style=\"text-align: right;\">\n",
       "      <th></th>\n",
       "      <th>mkt</th>\n",
       "      <th>smb</th>\n",
       "      <th>hml</th>\n",
       "      <th>rf</th>\n",
       "      <th>mom</th>\n",
       "      <th>rtn</th>\n",
       "      <th>excess_rtn</th>\n",
       "    </tr>\n",
       "  </thead>\n",
       "  <tbody>\n",
       "    <tr>\n",
       "      <th>2014-01</th>\n",
       "      <td>-0.0332</td>\n",
       "      <td>0.0089</td>\n",
       "      <td>-0.0207</td>\n",
       "      <td>0.0</td>\n",
       "      <td>0.0171</td>\n",
       "      <td>-0.100554</td>\n",
       "      <td>-0.100554</td>\n",
       "    </tr>\n",
       "    <tr>\n",
       "      <th>2014-02</th>\n",
       "      <td>0.0465</td>\n",
       "      <td>0.0035</td>\n",
       "      <td>-0.0031</td>\n",
       "      <td>0.0</td>\n",
       "      <td>0.0207</td>\n",
       "      <td>0.009507</td>\n",
       "      <td>0.009507</td>\n",
       "    </tr>\n",
       "    <tr>\n",
       "      <th>2014-03</th>\n",
       "      <td>0.0043</td>\n",
       "      <td>-0.0181</td>\n",
       "      <td>0.0493</td>\n",
       "      <td>0.0</td>\n",
       "      <td>-0.0329</td>\n",
       "      <td>-0.071058</td>\n",
       "      <td>-0.071058</td>\n",
       "    </tr>\n",
       "    <tr>\n",
       "      <th>2014-04</th>\n",
       "      <td>-0.0019</td>\n",
       "      <td>-0.0419</td>\n",
       "      <td>0.0117</td>\n",
       "      <td>0.0</td>\n",
       "      <td>-0.0389</td>\n",
       "      <td>-0.095847</td>\n",
       "      <td>-0.095847</td>\n",
       "    </tr>\n",
       "    <tr>\n",
       "      <th>2014-05</th>\n",
       "      <td>0.0206</td>\n",
       "      <td>-0.0188</td>\n",
       "      <td>-0.0013</td>\n",
       "      <td>0.0</td>\n",
       "      <td>0.0087</td>\n",
       "      <td>0.027685</td>\n",
       "      <td>0.027685</td>\n",
       "    </tr>\n",
       "  </tbody>\n",
       "</table>\n",
       "</div>"
      ],
      "text/plain": [
       "            mkt     smb     hml   rf     mom       rtn  excess_rtn\n",
       "2014-01 -0.0332  0.0089 -0.0207  0.0  0.0171 -0.100554   -0.100554\n",
       "2014-02  0.0465  0.0035 -0.0031  0.0  0.0207  0.009507    0.009507\n",
       "2014-03  0.0043 -0.0181  0.0493  0.0 -0.0329 -0.071058   -0.071058\n",
       "2014-04 -0.0019 -0.0419  0.0117  0.0 -0.0389 -0.095847   -0.095847\n",
       "2014-05  0.0206 -0.0188 -0.0013  0.0  0.0087  0.027685    0.027685"
      ]
     },
     "execution_count": 12,
     "metadata": {},
     "output_type": "execute_result"
    }
   ],
   "source": [
    "# join all datasets on the index\n",
    "four_factor_data = df_three_factor.join(df_mom).join(y)\n",
    "\n",
    "# rename columns\n",
    "four_factor_data.columns = ['mkt', 'smb', 'hml', 'rf', 'mom', 'rtn']\n",
    "\n",
    "# divide everything (except returns) by 100\n",
    "four_factor_data.loc[:, four_factor_data.columns != 'rtn'] /= 100\n",
    "\n",
    "# select period of interest\n",
    "four_factor_data = four_factor_data.loc[START_DATE:END_DATE]\n",
    "\n",
    "# calculate excess returns\n",
    "four_factor_data['excess_rtn'] = four_factor_data.rtn - four_factor_data.rf\n",
    "\n",
    "four_factor_data.head()"
   ]
  },
  {
   "cell_type": "markdown",
   "id": "21d83399-5e7d-4f87-8266-c9756fa5a2c1",
   "metadata": {},
   "source": [
    "6- Merge the datasets for the five-factor models"
   ]
  },
  {
   "cell_type": "code",
   "execution_count": 14,
   "id": "c3892ad1-b092-4c7b-b48a-373dc88e6437",
   "metadata": {},
   "outputs": [
    {
     "data": {
      "text/html": [
       "<div>\n",
       "<style scoped>\n",
       "    .dataframe tbody tr th:only-of-type {\n",
       "        vertical-align: middle;\n",
       "    }\n",
       "\n",
       "    .dataframe tbody tr th {\n",
       "        vertical-align: top;\n",
       "    }\n",
       "\n",
       "    .dataframe thead th {\n",
       "        text-align: right;\n",
       "    }\n",
       "</style>\n",
       "<table border=\"1\" class=\"dataframe\">\n",
       "  <thead>\n",
       "    <tr style=\"text-align: right;\">\n",
       "      <th></th>\n",
       "      <th>mkt</th>\n",
       "      <th>smb</th>\n",
       "      <th>hml</th>\n",
       "      <th>rmw</th>\n",
       "      <th>cma</th>\n",
       "      <th>rf</th>\n",
       "      <th>rtn</th>\n",
       "      <th>excess_rtn</th>\n",
       "    </tr>\n",
       "  </thead>\n",
       "  <tbody>\n",
       "    <tr>\n",
       "      <th>2014-01</th>\n",
       "      <td>-0.0332</td>\n",
       "      <td>0.0058</td>\n",
       "      <td>-0.0207</td>\n",
       "      <td>-0.0388</td>\n",
       "      <td>-0.0142</td>\n",
       "      <td>0.0</td>\n",
       "      <td>-0.100554</td>\n",
       "      <td>-0.100554</td>\n",
       "    </tr>\n",
       "    <tr>\n",
       "      <th>2014-02</th>\n",
       "      <td>0.0465</td>\n",
       "      <td>0.0014</td>\n",
       "      <td>-0.0031</td>\n",
       "      <td>-0.0023</td>\n",
       "      <td>-0.0045</td>\n",
       "      <td>0.0</td>\n",
       "      <td>0.009507</td>\n",
       "      <td>0.009507</td>\n",
       "    </tr>\n",
       "    <tr>\n",
       "      <th>2014-03</th>\n",
       "      <td>0.0043</td>\n",
       "      <td>-0.0109</td>\n",
       "      <td>0.0493</td>\n",
       "      <td>0.0213</td>\n",
       "      <td>0.0192</td>\n",
       "      <td>0.0</td>\n",
       "      <td>-0.071058</td>\n",
       "      <td>-0.071058</td>\n",
       "    </tr>\n",
       "    <tr>\n",
       "      <th>2014-04</th>\n",
       "      <td>-0.0019</td>\n",
       "      <td>-0.0412</td>\n",
       "      <td>0.0117</td>\n",
       "      <td>0.0348</td>\n",
       "      <td>0.0102</td>\n",
       "      <td>0.0</td>\n",
       "      <td>-0.095847</td>\n",
       "      <td>-0.095847</td>\n",
       "    </tr>\n",
       "    <tr>\n",
       "      <th>2014-05</th>\n",
       "      <td>0.0206</td>\n",
       "      <td>-0.0189</td>\n",
       "      <td>-0.0013</td>\n",
       "      <td>0.0005</td>\n",
       "      <td>-0.0100</td>\n",
       "      <td>0.0</td>\n",
       "      <td>0.027685</td>\n",
       "      <td>0.027685</td>\n",
       "    </tr>\n",
       "  </tbody>\n",
       "</table>\n",
       "</div>"
      ],
      "text/plain": [
       "            mkt     smb     hml     rmw     cma   rf       rtn  excess_rtn\n",
       "2014-01 -0.0332  0.0058 -0.0207 -0.0388 -0.0142  0.0 -0.100554   -0.100554\n",
       "2014-02  0.0465  0.0014 -0.0031 -0.0023 -0.0045  0.0  0.009507    0.009507\n",
       "2014-03  0.0043 -0.0109  0.0493  0.0213  0.0192  0.0 -0.071058   -0.071058\n",
       "2014-04 -0.0019 -0.0412  0.0117  0.0348  0.0102  0.0 -0.095847   -0.095847\n",
       "2014-05  0.0206 -0.0189 -0.0013  0.0005 -0.0100  0.0  0.027685    0.027685"
      ]
     },
     "execution_count": 14,
     "metadata": {},
     "output_type": "execute_result"
    }
   ],
   "source": [
    "# join all datasets on the index\n",
    "five_factor_data = df_five_factor.join(y)\n",
    "\n",
    "# rename columns\n",
    "five_factor_data.columns = ['mkt', 'smb', 'hml', 'rmw', 'cma', 'rf', 'rtn']\n",
    "\n",
    "# divide everything (except returns) by 100\n",
    "five_factor_data.loc[:, five_factor_data.columns != 'rtn'] /= 100\n",
    "\n",
    "# select period of interest\n",
    "five_factor_data = five_factor_data.loc[START_DATE:END_DATE]\n",
    "\n",
    "# calculate excess returns\n",
    "five_factor_data['excess_rtn'] = five_factor_data.rtn - five_factor_data.rf\n",
    "\n",
    "five_factor_data.head()"
   ]
  },
  {
   "cell_type": "markdown",
   "id": "114aaefe-c221-48a3-aa9b-b5d504479a9e",
   "metadata": {},
   "source": [
    "7- Estimate the four factor model"
   ]
  },
  {
   "cell_type": "code",
   "execution_count": 16,
   "id": "ef948372-fac9-4d92-a759-6050de0fc2af",
   "metadata": {},
   "outputs": [
    {
     "name": "stdout",
     "output_type": "stream",
     "text": [
      "                            OLS Regression Results                            \n",
      "==============================================================================\n",
      "Dep. Variable:             excess_rtn   R-squared:                       0.551\n",
      "Model:                            OLS   Adj. R-squared:                  0.519\n",
      "Method:                 Least Squares   F-statistic:                     16.90\n",
      "Date:                Mon, 19 Feb 2024   Prob (F-statistic):           4.30e-09\n",
      "Time:                        16:50:50   Log-Likelihood:                 86.372\n",
      "No. Observations:                  60   AIC:                            -162.7\n",
      "Df Residuals:                      55   BIC:                            -152.3\n",
      "Df Model:                           4                                         \n",
      "Covariance Type:            nonrobust                                         \n",
      "==============================================================================\n",
      "                 coef    std err          t      P>|t|      [0.025      0.975]\n",
      "------------------------------------------------------------------------------\n",
      "Intercept      0.0093      0.008      1.162      0.250      -0.007       0.025\n",
      "mkt            1.7351      0.255      6.803      0.000       1.224       2.246\n",
      "smb           -0.5507      0.313     -1.758      0.084      -1.178       0.077\n",
      "hml           -1.0218      0.387     -2.638      0.011      -1.798      -0.246\n",
      "mom            0.3903      0.296      1.319      0.193      -0.203       0.983\n",
      "==============================================================================\n",
      "Omnibus:                        5.318   Durbin-Watson:                   1.710\n",
      "Prob(Omnibus):                  0.070   Jarque-Bera (JB):                4.859\n",
      "Skew:                           0.696   Prob(JB):                       0.0881\n",
      "Kurtosis:                       3.070   Cond. No.                         57.2\n",
      "==============================================================================\n",
      "\n",
      "Notes:\n",
      "[1] Standard Errors assume that the covariance matrix of the errors is correctly specified.\n"
     ]
    }
   ],
   "source": [
    "four_factor_model = smf.ols(formula='excess_rtn ~ mkt + smb + hml + mom', data=four_factor_data).fit()\n",
    "\n",
    "print(four_factor_model.summary())"
   ]
  },
  {
   "cell_type": "markdown",
   "id": "344ed0fd-4b24-42fb-af2a-b6c278f5b292",
   "metadata": {},
   "source": [
    "8- Estimate the five factor model"
   ]
  },
  {
   "cell_type": "code",
   "execution_count": 17,
   "id": "ed783978-6f2a-4b4f-bd6a-f998d90e0db1",
   "metadata": {},
   "outputs": [
    {
     "name": "stdout",
     "output_type": "stream",
     "text": [
      "                            OLS Regression Results                            \n",
      "==============================================================================\n",
      "Dep. Variable:             excess_rtn   R-squared:                       0.595\n",
      "Model:                            OLS   Adj. R-squared:                  0.557\n",
      "Method:                 Least Squares   F-statistic:                     15.86\n",
      "Date:                Mon, 19 Feb 2024   Prob (F-statistic):           1.36e-09\n",
      "Time:                        16:54:03   Log-Likelihood:                 89.429\n",
      "No. Observations:                  60   AIC:                            -166.9\n",
      "Df Residuals:                      54   BIC:                            -154.3\n",
      "Df Model:                           5                                         \n",
      "Covariance Type:            nonrobust                                         \n",
      "==============================================================================\n",
      "                 coef    std err          t      P>|t|      [0.025      0.975]\n",
      "------------------------------------------------------------------------------\n",
      "Intercept      0.0099      0.008      1.297      0.200      -0.005       0.025\n",
      "mkt            1.5468      0.246      6.291      0.000       1.054       2.040\n",
      "smb           -0.7973      0.343     -2.322      0.024      -1.486      -0.109\n",
      "hml           -0.6038      0.417     -1.447      0.154      -1.440       0.233\n",
      "rmw           -0.7262      0.562     -1.292      0.202      -1.853       0.401\n",
      "cma           -1.4019      0.680     -2.061      0.044      -2.765      -0.038\n",
      "==============================================================================\n",
      "Omnibus:                        1.817   Durbin-Watson:                   1.729\n",
      "Prob(Omnibus):                  0.403   Jarque-Bera (JB):                1.444\n",
      "Skew:                           0.380   Prob(JB):                        0.486\n",
      "Kurtosis:                       3.001   Cond. No.                         103.\n",
      "==============================================================================\n",
      "\n",
      "Notes:\n",
      "[1] Standard Errors assume that the covariance matrix of the errors is correctly specified.\n"
     ]
    }
   ],
   "source": [
    "five_factor_model = smf.ols(formula='excess_rtn ~ mkt + smb + hml + rmw + cma', data=five_factor_data).fit()\n",
    "\n",
    "print(five_factor_model.summary())"
   ]
  }
 ],
 "metadata": {
  "kernelspec": {
   "display_name": "Python 3 (ipykernel)",
   "language": "python",
   "name": "python3"
  },
  "language_info": {
   "codemirror_mode": {
    "name": "ipython",
    "version": 3
   },
   "file_extension": ".py",
   "mimetype": "text/x-python",
   "name": "python",
   "nbconvert_exporter": "python",
   "pygments_lexer": "ipython3",
   "version": "3.11.7"
  }
 },
 "nbformat": 4,
 "nbformat_minor": 5
}

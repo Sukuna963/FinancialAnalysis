{
 "cells": [
  {
   "cell_type": "markdown",
   "id": "5f48adc1",
   "metadata": {},
   "source": [
    "# Financial Data and Processing"
   ]
  },
  {
   "cell_type": "markdown",
   "id": "dc68ff10",
   "metadata": {},
   "source": [
    "## Getting data from Yahoo Finance"
   ]
  },
  {
   "cell_type": "code",
   "execution_count": 1,
   "id": "10fdb876",
   "metadata": {},
   "outputs": [],
   "source": [
    "import pandas as pd\n",
    "import yfinance as yf"
   ]
  },
  {
   "cell_type": "markdown",
   "id": "31260755",
   "metadata": {},
   "source": [
    "2.Download the data"
   ]
  },
  {
   "cell_type": "code",
   "execution_count": 2,
   "id": "ce5e0076",
   "metadata": {},
   "outputs": [],
   "source": [
    "df_yahoo = yf.download('AMZN', start='2013-01-01', end='2023-12-31', progress=False)"
   ]
  },
  {
   "cell_type": "markdown",
   "id": "1a446d67",
   "metadata": {},
   "source": [
    "3.Inspect the data"
   ]
  },
  {
   "cell_type": "code",
   "execution_count": 3,
   "id": "414cf4c2",
   "metadata": {},
   "outputs": [
    {
     "name": "stdout",
     "output_type": "stream",
     "text": [
      "Download 2768) rows of data\n"
     ]
    },
    {
     "data": {
      "text/html": [
       "<div>\n",
       "<style scoped>\n",
       "    .dataframe tbody tr th:only-of-type {\n",
       "        vertical-align: middle;\n",
       "    }\n",
       "\n",
       "    .dataframe tbody tr th {\n",
       "        vertical-align: top;\n",
       "    }\n",
       "\n",
       "    .dataframe thead th {\n",
       "        text-align: right;\n",
       "    }\n",
       "</style>\n",
       "<table border=\"1\" class=\"dataframe\">\n",
       "  <thead>\n",
       "    <tr style=\"text-align: right;\">\n",
       "      <th></th>\n",
       "      <th>Open</th>\n",
       "      <th>High</th>\n",
       "      <th>Low</th>\n",
       "      <th>Close</th>\n",
       "      <th>Adj Close</th>\n",
       "      <th>Volume</th>\n",
       "    </tr>\n",
       "    <tr>\n",
       "      <th>Date</th>\n",
       "      <th></th>\n",
       "      <th></th>\n",
       "      <th></th>\n",
       "      <th></th>\n",
       "      <th></th>\n",
       "      <th></th>\n",
       "    </tr>\n",
       "  </thead>\n",
       "  <tbody>\n",
       "    <tr>\n",
       "      <th>2013-01-02</th>\n",
       "      <td>12.8040</td>\n",
       "      <td>12.9050</td>\n",
       "      <td>12.6630</td>\n",
       "      <td>12.8655</td>\n",
       "      <td>12.8655</td>\n",
       "      <td>65420000</td>\n",
       "    </tr>\n",
       "    <tr>\n",
       "      <th>2013-01-03</th>\n",
       "      <td>12.8635</td>\n",
       "      <td>13.0440</td>\n",
       "      <td>12.8185</td>\n",
       "      <td>12.9240</td>\n",
       "      <td>12.9240</td>\n",
       "      <td>55018000</td>\n",
       "    </tr>\n",
       "    <tr>\n",
       "      <th>2013-01-04</th>\n",
       "      <td>12.8790</td>\n",
       "      <td>12.9900</td>\n",
       "      <td>12.8325</td>\n",
       "      <td>12.9575</td>\n",
       "      <td>12.9575</td>\n",
       "      <td>37484000</td>\n",
       "    </tr>\n",
       "    <tr>\n",
       "      <th>2013-01-07</th>\n",
       "      <td>13.1485</td>\n",
       "      <td>13.4865</td>\n",
       "      <td>13.1335</td>\n",
       "      <td>13.4230</td>\n",
       "      <td>13.4230</td>\n",
       "      <td>98200000</td>\n",
       "    </tr>\n",
       "    <tr>\n",
       "      <th>2013-01-08</th>\n",
       "      <td>13.3535</td>\n",
       "      <td>13.4490</td>\n",
       "      <td>13.1785</td>\n",
       "      <td>13.3190</td>\n",
       "      <td>13.3190</td>\n",
       "      <td>60214000</td>\n",
       "    </tr>\n",
       "  </tbody>\n",
       "</table>\n",
       "</div>"
      ],
      "text/plain": [
       "               Open     High      Low    Close  Adj Close    Volume\n",
       "Date                                                               \n",
       "2013-01-02  12.8040  12.9050  12.6630  12.8655    12.8655  65420000\n",
       "2013-01-03  12.8635  13.0440  12.8185  12.9240    12.9240  55018000\n",
       "2013-01-04  12.8790  12.9900  12.8325  12.9575    12.9575  37484000\n",
       "2013-01-07  13.1485  13.4865  13.1335  13.4230    13.4230  98200000\n",
       "2013-01-08  13.3535  13.4490  13.1785  13.3190    13.3190  60214000"
      ]
     },
     "execution_count": 3,
     "metadata": {},
     "output_type": "execute_result"
    }
   ],
   "source": [
    "print(f'Download {df_yahoo.shape[0]}) rows of data')\n",
    "\n",
    "df_yahoo.head()"
   ]
  }
 ],
 "metadata": {
  "kernelspec": {
   "display_name": "Python 3 (ipykernel)",
   "language": "python",
   "name": "python3"
  },
  "language_info": {
   "codemirror_mode": {
    "name": "ipython",
    "version": 3
   },
   "file_extension": ".py",
   "mimetype": "text/x-python",
   "name": "python",
   "nbconvert_exporter": "python",
   "pygments_lexer": "ipython3",
   "version": "3.11.7"
  }
 },
 "nbformat": 4,
 "nbformat_minor": 5
}
